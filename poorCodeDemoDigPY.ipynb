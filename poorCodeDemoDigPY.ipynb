{
 "cells": [
  {
   "cell_type": "code",
   "execution_count": 3,
   "metadata": {},
   "outputs": [],
   "source": [
    "import numpy as np\n",
    "import pandas as pd\n",
    "import matplotlib.pyplot as plt"
   ]
  },
  {
   "cell_type": "code",
   "execution_count": 4,
   "metadata": {},
   "outputs": [],
   "source": [
    "train_data = pd.DataFrame(np.loadtxt(('dtrain123.dat')))\n",
    "test_data = pd.DataFrame(np.loadtxt(('dtest123.dat')))"
   ]
  },
  {
   "cell_type": "code",
   "execution_count": 5,
   "metadata": {},
   "outputs": [
    {
     "data": {
      "image/png": "[encoded data removed]",
      "text/plain": [
       "<Figure size 640x480 with 1 Axes>"
      ]
     },
     "metadata": {},
     "output_type": "display_data"
    }
   ],
   "source": [
    "def plot_char(char):\n",
    "    label = char[0]\n",
    "    pixels = np.array(char[1:257]).reshape(16, 16)\n",
    "    \n",
    "    # Plotting\n",
    "    plt.imshow(pixels, cmap='gray')\n",
    "    plt.title(f\"The number {label}\")\n",
    "    plt.show()\n",
    "\n",
    "plot_char(train_data.iloc[0,:])\n"
   ]
  },
  {
   "cell_type": "markdown",
   "metadata": {},
   "source": [
    "Define the kernel and the classification"
   ]
  },
  {
   "cell_type": "code",
   "execution_count": 6,
   "metadata": {},
   "outputs": [],
   "source": [
    "def kerval(a, b):\n",
    "    return np.dot(a, b) ** 3\n",
    "\n",
    "def mysign(x):\n",
    "    return -1.0 if x <= 0.0 else 1.0"
   ]
  },
  {
   "cell_type": "markdown",
   "metadata": {},
   "source": [
    "The kernel coefficients alpha for each of the 3 classifiers"
   ]
  },
  {
   "cell_type": "code",
   "execution_count": 7,
   "metadata": {},
   "outputs": [],
   "source": [
    "alpha_list = np.zeros((3,int(len(train_data))))"
   ]
  },
  {
   "cell_type": "code",
   "execution_count": 11,
   "metadata": {},
   "outputs": [],
   "source": [
    "#returns the classification for a single class\n",
    "#vec is the 256 length vector we make a prediction for\n",
    "def classpredk(data, vec, alpha):\n",
    "    #calculates kernel sum, i.e. sums the products of alpha entries with kernel products of the pattern and each data point\n",
    "    #alpha[i] accounts for the sign of y_i as well\n",
    "    return sum(alpha[i] * kerval(vec, data.iloc[i,1:]) for i in range(len(alpha)))\n",
    "\n",
    "def traingen(data):\n",
    "    mistakes = 0\n",
    "    #for each point in the training dataset\n",
    "    for i in range(len(data)):\n",
    "        val = data.iloc[i,0] #label\n",
    "        #get prediction at the training point for each of the 3 classes\n",
    "        preds = [classpredk(data, data.iloc[i,1:], alpha_list[j]) for j in range(3)]   \n",
    "        maxc = float(\"-inf\")\n",
    "        #for each class\n",
    "        for j in range(3):\n",
    "            y = 1.0 if val == j+1 else -1.0\n",
    "            #if the classifier predicts incorrectly\n",
    "            if y * preds[j] <= 0:\n",
    "                #adds/takes away 1 depending on the sign of y_i\n",
    "                alpha_list[j, i] -= mysign(preds[j])\n",
    "            if preds[j] > maxc:\n",
    "                maxc = preds[j]\n",
    "        if np.argmax(preds) + 1 != val:\n",
    "            mistakes += 1\n",
    "    return mistakes"
   ]
  },
  {
   "cell_type": "code",
   "execution_count": 12,
   "metadata": {},
   "outputs": [],
   "source": [
    "def testclassifiers(dat, testdat):\n",
    "    mistakes = 0\n",
    "    for i in range(len(testdat)):\n",
    "        val = testdat.iloc[i,0]\n",
    "        preds = [classpredk(dat, testdat.iloc[i,1:], alpha_list[j]) for j in range(3)]\n",
    "        if np.argmax(preds) + 1 != val:\n",
    "            mistakes += 1\n",
    "    return mistakes / len(testdat)"
   ]
  },
  {
   "cell_type": "code",
   "execution_count": 13,
   "metadata": {},
   "outputs": [],
   "source": [
    "def demo(train, test):\n",
    "    alpha_list = np.zeros((3,int(len(train_data))))\n",
    "    for i in range(3):  # 3 iterations chosen arbitrarily\n",
    "        mistakes = traingen(train)\n",
    "        print(f\"Training - epoch {i+1} with {mistakes} mistakes out of {len(train)} items.\")\n",
    "        test_error = testclassifiers(train, test)\n",
    "        print(f\"Testing - epoch {i+1} with a test error of {test_error*100:.3f}%.\")"
   ]
  },
  {
   "cell_type": "code",
   "execution_count": 14,
   "metadata": {},
   "outputs": [
    {
     "data": {
      "text/plain": [
       "(456, 257)"
      ]
     },
     "execution_count": 14,
     "metadata": {},
     "output_type": "execute_result"
    }
   ],
   "source": [
    "test_data.shape"
   ]
  },
  {
   "cell_type": "code",
   "execution_count": 15,
   "metadata": {},
   "outputs": [
    {
     "name": "stdout",
     "output_type": "stream",
     "text": [
      "Training - epoch 1 with 15 mistakes out of 329 items.\n",
      "Testing - epoch 1 with a test error of 3.509%.\n",
      "Training - epoch 2 with 3 mistakes out of 329 items.\n",
      "Testing - epoch 2 with a test error of 2.851%.\n",
      "Training - epoch 3 with 0 mistakes out of 329 items.\n",
      "Testing - epoch 3 with a test error of 2.632%.\n"
     ]
    }
   ],
   "source": [
    "demo(train_data,test_data)"
   ]
  }
 ],
 "metadata": {
  "kernelspec": {
   "display_name": "sl-env",
   "language": "python",
   "name": "python3"
  },
  "language_info": {
   "codemirror_mode": {
    "name": "ipython",
    "version": 3
   },
   "file_extension": ".py",
   "mimetype": "text/x-python",
   "name": "python",
   "nbconvert_exporter": "python",
   "pygments_lexer": "ipython3",
   "version": "3.10.13"
  }
 },
 "nbformat": 4,
 "nbformat_minor": 2
}
